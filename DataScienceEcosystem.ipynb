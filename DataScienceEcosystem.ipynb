{
 "cells": [
  {
   "cell_type": "markdown",
   "id": "6d73e5ca-3c3d-45f5-ba9a-be7b9687ca82",
   "metadata": {},
   "source": [
    "# Data Science Tools and Ecosystem"
   ]
  },
  {
   "cell_type": "markdown",
   "id": "961eeb53-37b4-4d3a-ba30-eeee0724aaa6",
   "metadata": {},
   "source": [
    "In this notebook, Data Science Tools and Ecosystem are summarized."
   ]
  },
  {
   "cell_type": "markdown",
   "id": "cae3f3b1-6912-4366-8356-832278d9f215",
   "metadata": {},
   "source": [
    "**Objectives**\n",
    "- List popular languages for Data Science\n",
    "- List commonly used libraries in Data Science\n",
    "- List popular Data Science tools in a table\n"
   ]
  },
  {
   "cell_type": "markdown",
   "id": "caef99b9-ec6f-40a1-aa85-ddc7d4380557",
   "metadata": {},
   "source": [
    "Some of the popular languages that Data Scientists use are:\n",
    "1. python\n",
    "2. R\n",
    "3. SQL\n",
    "   "
   ]
  },
  {
   "cell_type": "markdown",
   "id": "08b8b83e-77bd-4a0e-81d0-9bc85d1279cd",
   "metadata": {},
   "source": [
    "Some of the commonly used libraries used by Data Scientists include:\n",
    "1. pandas\n",
    "2. matplotlib\n",
    "3. sickit-learn\n",
    "4. numpy"
   ]
  },
  {
   "cell_type": "markdown",
   "id": "3cde5fda-d29e-4e0d-93ff-0245c7c59f1a",
   "metadata": {},
   "source": [
    "| Data science tools |\n",
    "| ------------------ |\n",
    "| Jupyter Notebook |\n",
    "| R Studio |\n",
    "| Visual Studio Code |\n"
   ]
  },
  {
   "cell_type": "markdown",
   "id": "51138be0-345a-402b-b044-c340f324cbd3",
   "metadata": {},
   "source": [
    "### Below are a few examples of evaluating arithmetic expressions in Python.\n",
    "\n"
   ]
  },
  {
   "cell_type": "code",
   "execution_count": 1,
   "id": "1516da9e-7993-4f5d-b3f4-320555d0b3f9",
   "metadata": {},
   "outputs": [
    {
     "data": {
      "text/plain": [
       "17"
      ]
     },
     "execution_count": 1,
     "metadata": {},
     "output_type": "execute_result"
    }
   ],
   "source": [
    "# This a simple arithmetic expression to mutiply then add integers.\n",
    "(3 * 4) + 5"
   ]
  },
  {
   "cell_type": "code",
   "execution_count": 2,
   "id": "b95303a1-8c22-4ccc-988e-1af9de35bb57",
   "metadata": {},
   "outputs": [
    {
     "data": {
      "text/plain": [
       "3.3333333333333335"
      ]
     },
     "execution_count": 2,
     "metadata": {},
     "output_type": "execute_result"
    }
   ],
   "source": [
    "# This will convert 200 minutes to hours by diving by 60\n",
    "200 / 60"
   ]
  },
  {
   "cell_type": "markdown",
   "id": "d463a12b-5902-421f-b52e-34b71578e4e3",
   "metadata": {},
   "source": [
    "## Author\n",
    "Abdulrahman Algarzaei"
   ]
  },
  {
   "cell_type": "code",
   "execution_count": null,
   "id": "29814b36-e054-40d5-9df7-528e165261ba",
   "metadata": {},
   "outputs": [],
   "source": []
  }
 ],
 "metadata": {
  "kernelspec": {
   "display_name": "Python 3 (ipykernel)",
   "language": "python",
   "name": "python3"
  },
  "language_info": {
   "codemirror_mode": {
    "name": "ipython",
    "version": 3
   },
   "file_extension": ".py",
   "mimetype": "text/x-python",
   "name": "python",
   "nbconvert_exporter": "python",
   "pygments_lexer": "ipython3",
   "version": "3.12.9"
  }
 },
 "nbformat": 4,
 "nbformat_minor": 5
}
